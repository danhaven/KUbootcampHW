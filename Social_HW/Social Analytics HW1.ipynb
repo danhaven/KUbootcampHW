{
 "cells": [
  {
   "cell_type": "markdown",
   "metadata": {},
   "source": [
    "## Observations\n",
    "### 1. The @CBS news account has the most positive tweets on average\n",
    "### 2. A slight majority of total tweets are positive, but they are pretty evenly spread\n",
    "### 3. BBC has the highest neutral sentiment, but since they also have the lowest negative sentiment, they come out net positive"
   ]
  },
  {
   "cell_type": "code",
   "execution_count": 1,
   "metadata": {
    "collapsed": true
   },
   "outputs": [],
   "source": [
    "import os\n",
    "import tweepy\n",
    "import json\n",
    "import time\n",
    "import pandas as pd\n",
    "import numpy as np\n",
    "import matplotlib.pyplot as plt\n",
    "import seaborn\n",
    "from vaderSentiment.vaderSentiment import SentimentIntensityAnalyzer\n",
    "analyzer = SentimentIntensityAnalyzer()"
   ]
  },
  {
   "cell_type": "code",
   "execution_count": 2,
   "metadata": {
    "collapsed": true
   },
   "outputs": [],
   "source": [
    "file_name = \"api_keys.json\"\n",
    "data = json.load(open(file_name))\n",
    "\n",
    "gkey = data['google_places_api_key']\n",
    "consumer_key = data['twitter_consumer_key']\n",
    "consumer_secret = data['twitter_consumer_secret']\n",
    "access_token = data['twitter_access_token']\n",
    "access_token_secret = data['twitter_access_token_secret']"
   ]
  },
  {
   "cell_type": "code",
   "execution_count": 3,
   "metadata": {
    "collapsed": true
   },
   "outputs": [],
   "source": [
    "auth = tweepy.OAuthHandler(consumer_key, consumer_secret)\n",
    "auth.set_access_token(access_token, access_token_secret)\n",
    "api = tweepy.API(auth, parser=tweepy.parsers.JSONParser())"
   ]
  },
  {
   "cell_type": "code",
   "execution_count": 4,
   "metadata": {
    "collapsed": true
   },
   "outputs": [],
   "source": [
    "compound_list = []\n",
    "positive_list = []\n",
    "negative_list = []\n",
    "neutral_list = []"
   ]
  },
  {
   "cell_type": "code",
   "execution_count": 5,
   "metadata": {
    "collapsed": true
   },
   "outputs": [],
   "source": [
    "target_users = ['@BBC', '@CNN', '@CBS', '@FoxNews', '@nytimes']\n",
    "\n",
    "counter = 1\n",
    "\n",
    "sentiments = []\n",
    "\n",
    "for user in target_users:\n",
    "\n",
    "    for x in range(5):\n",
    "        public_tweets = api.user_timeline(user, page=x)\n",
    "   \n",
    "        for twt in public_tweets:\n",
    "            compound = analyzer.polarity_scores(twt['text'])[\"compound\"]\n",
    "            pos = analyzer.polarity_scores(twt['text'])[\"pos\"]\n",
    "            neu = analyzer.polarity_scores(twt['text'])[\"neu\"]\n",
    "            neg = analyzer.polarity_scores(twt['text'])[\"neg\"]\n",
    "            compound_list.append(compound)\n",
    "            positive_list.append(pos)\n",
    "            negative_list.append(neg)\n",
    "            neutral_list.append(neu)\n",
    "\n",
    "            sentiments.append({\"User\" : user, \"Date\" : twt[\"created_at\"], \"Compound\" : compound, \"Positive\" : pos, \"Negative\" : neg, \"Neutral\" : neu, \"Tweets Ago\" : counter})\n",
    "       \n",
    "            counter = counter + 1"
   ]
  },
  {
   "cell_type": "code",
   "execution_count": 14,
   "metadata": {
    "scrolled": true
   },
   "outputs": [
    {
     "data": {
      "text/html": [
       "<div>\n",
       "<style>\n",
       "    .dataframe thead tr:only-child th {\n",
       "        text-align: right;\n",
       "    }\n",
       "\n",
       "    .dataframe thead th {\n",
       "        text-align: left;\n",
       "    }\n",
       "\n",
       "    .dataframe tbody tr th {\n",
       "        vertical-align: top;\n",
       "    }\n",
       "</style>\n",
       "<table border=\"1\" class=\"dataframe\">\n",
       "  <thead>\n",
       "    <tr style=\"text-align: right;\">\n",
       "      <th></th>\n",
       "      <th>Compound</th>\n",
       "      <th>Date</th>\n",
       "      <th>Negative</th>\n",
       "      <th>Neutral</th>\n",
       "      <th>Positive</th>\n",
       "      <th>Tweets Ago</th>\n",
       "      <th>User</th>\n",
       "    </tr>\n",
       "  </thead>\n",
       "  <tbody>\n",
       "    <tr>\n",
       "      <th>0</th>\n",
       "      <td>0.0000</td>\n",
       "      <td>Sat Feb 03 16:00:05 +0000 2018</td>\n",
       "      <td>0.000</td>\n",
       "      <td>1.000</td>\n",
       "      <td>0.000</td>\n",
       "      <td>1</td>\n",
       "      <td>@BBC</td>\n",
       "    </tr>\n",
       "    <tr>\n",
       "      <th>1</th>\n",
       "      <td>0.0000</td>\n",
       "      <td>Sat Feb 03 15:00:09 +0000 2018</td>\n",
       "      <td>0.000</td>\n",
       "      <td>1.000</td>\n",
       "      <td>0.000</td>\n",
       "      <td>2</td>\n",
       "      <td>@BBC</td>\n",
       "    </tr>\n",
       "    <tr>\n",
       "      <th>2</th>\n",
       "      <td>0.0000</td>\n",
       "      <td>Sat Feb 03 14:37:33 +0000 2018</td>\n",
       "      <td>0.000</td>\n",
       "      <td>1.000</td>\n",
       "      <td>0.000</td>\n",
       "      <td>3</td>\n",
       "      <td>@BBC</td>\n",
       "    </tr>\n",
       "    <tr>\n",
       "      <th>3</th>\n",
       "      <td>0.4199</td>\n",
       "      <td>Sat Feb 03 14:00:10 +0000 2018</td>\n",
       "      <td>0.000</td>\n",
       "      <td>0.811</td>\n",
       "      <td>0.189</td>\n",
       "      <td>4</td>\n",
       "      <td>@BBC</td>\n",
       "    </tr>\n",
       "    <tr>\n",
       "      <th>4</th>\n",
       "      <td>-0.5423</td>\n",
       "      <td>Sat Feb 03 13:53:45 +0000 2018</td>\n",
       "      <td>0.137</td>\n",
       "      <td>0.863</td>\n",
       "      <td>0.000</td>\n",
       "      <td>5</td>\n",
       "      <td>@BBC</td>\n",
       "    </tr>\n",
       "  </tbody>\n",
       "</table>\n",
       "</div>"
      ],
      "text/plain": [
       "   Compound                            Date  Negative  Neutral  Positive  \\\n",
       "0    0.0000  Sat Feb 03 16:00:05 +0000 2018     0.000    1.000     0.000   \n",
       "1    0.0000  Sat Feb 03 15:00:09 +0000 2018     0.000    1.000     0.000   \n",
       "2    0.0000  Sat Feb 03 14:37:33 +0000 2018     0.000    1.000     0.000   \n",
       "3    0.4199  Sat Feb 03 14:00:10 +0000 2018     0.000    0.811     0.189   \n",
       "4   -0.5423  Sat Feb 03 13:53:45 +0000 2018     0.137    0.863     0.000   \n",
       "\n",
       "   Tweets Ago  User  \n",
       "0           1  @BBC  \n",
       "1           2  @BBC  \n",
       "2           3  @BBC  \n",
       "3           4  @BBC  \n",
       "4           5  @BBC  "
      ]
     },
     "execution_count": 14,
     "metadata": {},
     "output_type": "execute_result"
    }
   ],
   "source": [
    "sentiments_pd = pd.DataFrame.from_dict(sentiments)\n",
    "sentiments_pd.head()"
   ]
  },
  {
   "cell_type": "code",
   "execution_count": 44,
   "metadata": {},
   "outputs": [
    {
     "data": {
      "image/png": "[encoded data removed]",
      "text/plain": [
       "<matplotlib.figure.Figure at 0x20b6dc28780>"
      ]
     },
     "metadata": {},
     "output_type": "display_data"
    }
   ],
   "source": [
    "plt.style.use(\"seaborn\")\n",
    "bbc_plot = sentiments_pd[sentiments_pd['User'] == '@BBC']\n",
    "plt.scatter(np.arange(len(bbc_plot[\"Compound\"])), bbc_plot[\"Compound\"],marker = 'o', color= 'red', linewidth=0, label=\"BBC\")\n",
    "cbs_plot = sentiments_pd[sentiments_pd['User'] == '@CBS']\n",
    "plt.scatter(np.arange(len(cbs_plot[\"Compound\"])), cbs_plot[\"Compound\"],marker = 'o', color= 'blue', linewidth=0, label=\"CBS\")\n",
    "cnn_plot = sentiments_pd[sentiments_pd['User'] == '@CNN']\n",
    "plt.scatter(np.arange(len(cnn_plot[\"Compound\"])), cnn_plot[\"Compound\"],marker = 'o', color= 'yellow', linewidth=0, label=\"CNN\")\n",
    "fox_plot = sentiments_pd[sentiments_pd['User'] == '@FoxNews']\n",
    "plt.scatter(np.arange(len(fox_plot[\"Compound\"])), fox_plot[\"Compound\"],marker = 'o', color= 'green', linewidth=0, label=\"Fox\")\n",
    "nyt_plot = sentiments_pd[sentiments_pd['User'] == '@nytimes']\n",
    "plt.scatter(np.arange(len(nyt_plot[\"Compound\"])), nyt_plot[\"Compound\"],marker = 'o', color= 'black', linewidth=0, label=\"NYT\")\n",
    "\n",
    "#plt.legend(handles=[bbc_plot, cbs_plot, cnn_plot, fox_plot, nyt_plot], loc='best')\n",
    "\n",
    "plt.legend(loc='center right', bbox_to_anchor=(0.75, 1.1),\n",
    "          ncol=3, fancybox=True, shadow=True)\n",
    "\n",
    "plt.xlabel(\"Tweets Ago\")\n",
    "plt.ylabel(\"Compound Sentiment\")\n",
    "plt.title(\"Sentiment Analysis of Media Tweets\")\n",
    "#plt.legend(loc='lower left')\n",
    "plt.show()"
   ]
  },
  {
   "cell_type": "code",
   "execution_count": 17,
   "metadata": {},
   "outputs": [
    {
     "data": {
      "text/html": [
       "<div>\n",
       "<style>\n",
       "    .dataframe thead tr:only-child th {\n",
       "        text-align: right;\n",
       "    }\n",
       "\n",
       "    .dataframe thead th {\n",
       "        text-align: left;\n",
       "    }\n",
       "\n",
       "    .dataframe tbody tr th {\n",
       "        vertical-align: top;\n",
       "    }\n",
       "</style>\n",
       "<table border=\"1\" class=\"dataframe\">\n",
       "  <thead>\n",
       "    <tr style=\"text-align: right;\">\n",
       "      <th></th>\n",
       "      <th>User</th>\n",
       "      <th>Compound</th>\n",
       "      <th>Negative</th>\n",
       "      <th>Neutral</th>\n",
       "      <th>Positive</th>\n",
       "      <th>Tweets Ago</th>\n",
       "    </tr>\n",
       "  </thead>\n",
       "  <tbody>\n",
       "    <tr>\n",
       "      <th>0</th>\n",
       "      <td>@BBC</td>\n",
       "      <td>0.149713</td>\n",
       "      <td>0.029970</td>\n",
       "      <td>0.879770</td>\n",
       "      <td>0.090260</td>\n",
       "      <td>50.5</td>\n",
       "    </tr>\n",
       "    <tr>\n",
       "      <th>1</th>\n",
       "      <td>@CBS</td>\n",
       "      <td>0.344478</td>\n",
       "      <td>0.036212</td>\n",
       "      <td>0.782051</td>\n",
       "      <td>0.181717</td>\n",
       "      <td>250.0</td>\n",
       "    </tr>\n",
       "    <tr>\n",
       "      <th>2</th>\n",
       "      <td>@CNN</td>\n",
       "      <td>-0.070838</td>\n",
       "      <td>0.077040</td>\n",
       "      <td>0.871790</td>\n",
       "      <td>0.051160</td>\n",
       "      <td>150.5</td>\n",
       "    </tr>\n",
       "    <tr>\n",
       "      <th>3</th>\n",
       "      <td>@FoxNews</td>\n",
       "      <td>0.029709</td>\n",
       "      <td>0.066200</td>\n",
       "      <td>0.852600</td>\n",
       "      <td>0.081180</td>\n",
       "      <td>349.5</td>\n",
       "    </tr>\n",
       "    <tr>\n",
       "      <th>4</th>\n",
       "      <td>@nytimes</td>\n",
       "      <td>0.001333</td>\n",
       "      <td>0.080190</td>\n",
       "      <td>0.851120</td>\n",
       "      <td>0.068690</td>\n",
       "      <td>449.5</td>\n",
       "    </tr>\n",
       "  </tbody>\n",
       "</table>\n",
       "</div>"
      ],
      "text/plain": [
       "       User  Compound  Negative   Neutral  Positive  Tweets Ago\n",
       "0      @BBC  0.149713  0.029970  0.879770  0.090260        50.5\n",
       "1      @CBS  0.344478  0.036212  0.782051  0.181717       250.0\n",
       "2      @CNN -0.070838  0.077040  0.871790  0.051160       150.5\n",
       "3  @FoxNews  0.029709  0.066200  0.852600  0.081180       349.5\n",
       "4  @nytimes  0.001333  0.080190  0.851120  0.068690       449.5"
      ]
     },
     "execution_count": 17,
     "metadata": {},
     "output_type": "execute_result"
    }
   ],
   "source": [
    "agg_compound = sentiments_pd.groupby('User').agg(np.mean)\n",
    "agg_compound.reset_index(inplace=True)\n",
    "agg_compound"
   ]
  },
  {
   "cell_type": "code",
   "execution_count": 23,
   "metadata": {},
   "outputs": [
    {
     "data": {
      "image/png": "[encoded data removed]",
      "text/plain": [
       "<matplotlib.figure.Figure at 0x20b70241588>"
      ]
     },
     "metadata": {},
     "output_type": "display_data"
    }
   ],
   "source": [
    "plt.style.use(\"seaborn\")\n",
    "agg_compound.plot(kind='bar', x='User', y='Compound', grid=True, title=\"Overall Media Sentiment based on Twitter\")\n",
    "plt.ylabel(\"Compound Sentiment\")\n",
    "plt.savefig('media_sentiment.png')\n",
    "plt.text(0, .16, '.15' )\n",
    "plt.text(1, .35, '.34' )\n",
    "plt.text(2, .02, '-.07' )\n",
    "plt.text(3, .04, '.03' )\n",
    "plt.text(4, .01, '.001' )\n",
    "plt.show()"
   ]
  },
  {
   "cell_type": "code",
   "execution_count": 11,
   "metadata": {
    "collapsed": true
   },
   "outputs": [],
   "source": [
    "sentiments_pd.to_csv(\"twitter_news_sentiment.csv\")"
   ]
  }
 ],
 "metadata": {
  "kernelspec": {
   "display_name": "Python 3",
   "language": "python",
   "name": "python3"
  },
  "language_info": {
   "codemirror_mode": {
    "name": "ipython",
    "version": 3
   },
   "file_extension": ".py",
   "mimetype": "text/x-python",
   "name": "python",
   "nbconvert_exporter": "python",
   "pygments_lexer": "ipython3",
   "version": "3.6.3"
  }
 },
 "nbformat": 4,
 "nbformat_minor": 2
}
